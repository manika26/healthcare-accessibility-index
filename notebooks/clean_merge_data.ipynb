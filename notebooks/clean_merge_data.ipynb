{
 "cells": [
  {
   "cell_type": "code",
   "execution_count": null,
   "id": "1afefc38",
   "metadata": {},
   "outputs": [
    {
     "name": "stderr",
     "output_type": "stream",
     "text": [
      "/var/folders/vk/fzlwy9hj4ts96ppvlkx7lpmc0000gn/T/ipykernel_98360/230149653.py:8: DtypeWarning: Columns (1) have mixed types. Specify dtype option on import or set low_memory=False.\n",
      "  df_broadband = pd.read_csv(\"/Users/manika/Desktop/Python : Learning/healthcare-accessibility-index/data/raw/broadband_by_state.csv\")\n",
      "/var/folders/vk/fzlwy9hj4ts96ppvlkx7lpmc0000gn/T/ipykernel_98360/230149653.py:9: DtypeWarning: Columns (47) have mixed types. Specify dtype option on import or set low_memory=False.\n",
      "  df_facilities = pd.read_csv(\"/Users/manika/Desktop/Python : Learning/healthcare-accessibility-index/data/raw/Health_Center_Service_Delivery_and_LookAlike_Sites.csv\")\n"
     ]
    }
   ],
   "source": [
    "import pandas as pd\n",
    "import numpy as np\n",
    "\n",
    "# Load all files\n",
    "df_pop = pd.read_csv(\"/Users/manika/Desktop/Python : Learning/healthcare-accessibility-index/data/raw/Population_2023.csv\")\n",
    "df_income = pd.read_csv(\"/Users/manika/Desktop/Python : Learning/healthcare-accessibility-index/data/raw/median_income.csv\")\n",
    "df_insurance = pd.read_csv(\"/Users/manika/Desktop/Python : Learning/healthcare-accessibility-index/data/raw/Health_Insurance_Coverage_Total_Population_by_state.csv\")\n",
    "df_broadband = pd.read_csv(\"/Users/manika/Desktop/Python : Learning/healthcare-accessibility-index/data/raw/broadband_by_state.csv\")\n",
    "df_facilities = pd.read_csv(\"/Users/manika/Desktop/Python : Learning/healthcare-accessibility-index/data/raw/Health_Center_Service_Delivery_and_LookAlike_Sites.csv\")\n",
    "df_travel = pd.read_csv(\"/Users/manika/Desktop/Python : Learning/healthcare-accessibility-index/data/raw/state_travel_time.csv\")\n",
    "\n",
    "\n"
   ]
  },
  {
   "cell_type": "markdown",
   "id": "51b3625a",
   "metadata": {},
   "source": [
    "Working with Population dataset\n",
    "* Keeping the 50 states and not including purto rico\n",
    "* need to strip data from state column to remove trailing spaces"
   ]
  },
  {
   "cell_type": "code",
   "execution_count": 172,
   "id": "85c9e510",
   "metadata": {},
   "outputs": [],
   "source": [
    "df_pop = pd.read_csv(\"/Users/manika/Desktop/Python : Learning/healthcare-accessibility-index/data/raw/Population_2023.csv\")"
   ]
  },
  {
   "cell_type": "code",
   "execution_count": 202,
   "id": "f52046ba",
   "metadata": {},
   "outputs": [],
   "source": [
    "# state column has trailing space so renamed it and rest is clean\n",
    "# state is a string and population is int so it is good\n",
    "df_pop.columns = df_pop.columns.str.lower()\n",
    "df_pop.rename(columns={'state ':'state'},inplace=True)"
   ]
  },
  {
   "cell_type": "code",
   "execution_count": 253,
   "id": "0e4b1902",
   "metadata": {},
   "outputs": [],
   "source": [
    "df_pop['state'] = df_pop['state'].str.strip()"
   ]
  },
  {
   "cell_type": "markdown",
   "id": "c9f85ffa",
   "metadata": {},
   "source": [
    "Working with median income dataset\n",
    "* Converted the column names to lower case\n",
    "* The income is object -> converted to string\n",
    "* Income is divided by 1000 to make the numbers small\n",
    "* changing column name of location -> state\n",
    "\n"
   ]
  },
  {
   "cell_type": "code",
   "execution_count": 217,
   "id": "1cc0bc54",
   "metadata": {},
   "outputs": [],
   "source": [
    "df_income = pd.read_csv(\"/Users/manika/Desktop/Python : Learning/healthcare-accessibility-index/data/raw/median_income.csv\")"
   ]
  },
  {
   "cell_type": "code",
   "execution_count": 219,
   "id": "d8a5acef",
   "metadata": {},
   "outputs": [],
   "source": [
    "df_income.rename(columns={'Location':'location','Median Annual Household Income':'median_income($1k)'},inplace=True)\n"
   ]
  },
  {
   "cell_type": "code",
   "execution_count": 221,
   "id": "62e1ee99",
   "metadata": {},
   "outputs": [],
   "source": [
    "# median income is string, need to convert it to int and also remove the $\n",
    "df_income['median_income($1k)'] = (\n",
    "    df_income['median_income($1k)']\n",
    "    .replace('[\\$,]', '', regex=True)\n",
    "    .astype(float)\n",
    "    / 1000\n",
    ")\n"
   ]
  },
  {
   "cell_type": "code",
   "execution_count": 223,
   "id": "e51011eb",
   "metadata": {},
   "outputs": [],
   "source": [
    "df_income = df_income[(df_income['location'] != 'United States') & (df_income['location'] != 'Puerto Rico')]"
   ]
  },
  {
   "cell_type": "code",
   "execution_count": 225,
   "id": "6bbc8e48",
   "metadata": {},
   "outputs": [
    {
     "name": "stderr",
     "output_type": "stream",
     "text": [
      "/var/folders/vk/fzlwy9hj4ts96ppvlkx7lpmc0000gn/T/ipykernel_98360/2017228073.py:1: SettingWithCopyWarning: \n",
      "A value is trying to be set on a copy of a slice from a DataFrame\n",
      "\n",
      "See the caveats in the documentation: https://pandas.pydata.org/pandas-docs/stable/user_guide/indexing.html#returning-a-view-versus-a-copy\n",
      "  df_income.rename(columns={'location':'state'},inplace=True)\n"
     ]
    }
   ],
   "source": [
    "df_income.rename(columns={'location':'state'},inplace=True)"
   ]
  },
  {
   "cell_type": "code",
   "execution_count": null,
   "id": "fed85260",
   "metadata": {},
   "outputs": [],
   "source": [
    "df_income['state'] = df_income['state'].str.strip()"
   ]
  },
  {
   "cell_type": "markdown",
   "id": "2e0b7c31",
   "metadata": {},
   "source": [
    "Working with insurance dataset:\n",
    "* removing \"united states\" and purto rico rows\n",
    "* creating new column by using ~uninsured to get the % of insured people\n",
    "* keeping only relevant columns : Location and Insured"
   ]
  },
  {
   "cell_type": "code",
   "execution_count": null,
   "id": "1fae00e0",
   "metadata": {},
   "outputs": [],
   "source": [
    "df_insurance.columns = df_insurance.columns.str.lower()\n",
    "df_insurance"
   ]
  },
  {
   "cell_type": "code",
   "execution_count": 160,
   "id": "88ddcef3",
   "metadata": {},
   "outputs": [],
   "source": [
    "df_insurance['insured'] = (1 - df_insurance['uninsured']) * 100\n",
    "df_insurance = df_insurance[['location','insured']]"
   ]
  },
  {
   "cell_type": "code",
   "execution_count": 161,
   "id": "bd68068e",
   "metadata": {},
   "outputs": [],
   "source": [
    "df_insurance = df_insurance[(df_insurance['location'] != 'United States')& (df_insurance['location'] != 'Puerto Rico')]"
   ]
  },
  {
   "cell_type": "code",
   "execution_count": 163,
   "id": "6728961a",
   "metadata": {},
   "outputs": [],
   "source": [
    "df_insurance.rename(columns={'location':'state'},inplace=True)"
   ]
  },
  {
   "cell_type": "code",
   "execution_count": 255,
   "id": "b7edf569",
   "metadata": {},
   "outputs": [],
   "source": [
    "df_insurance['state'] = df_insurance['state'].str.strip()"
   ]
  },
  {
   "cell_type": "markdown",
   "id": "6430fa09",
   "metadata": {},
   "source": [
    "Working on Broadband dataset:\n",
    "* need just two columns: state and brodband%\n",
    "* cleaning the \"geography_desc\" column using regex to extract state\n",
    "* droppping rows where state could not be extracted\n",
    "* feature engineering by grouping all the states and then finding average broadband%\n",
    "* mapping the State Abbervation which was extracted to the state name "
   ]
  },
  {
   "cell_type": "code",
   "execution_count": null,
   "id": "ce29dd4d",
   "metadata": {},
   "outputs": [],
   "source": [
    "df_broadband = pd.read_csv(\"/Users/manika/Desktop/Python : Learning/healthcare-accessibility-index/data/raw/broadband_by_state.csv\")\n",
    "df_broadband"
   ]
  },
  {
   "cell_type": "code",
   "execution_count": null,
   "id": "75b041d7",
   "metadata": {},
   "outputs": [],
   "source": [
    "df_broadband['state_abbr'] = df_broadband['geography_desc'].str.extract(r',\\s*([A-Z]{2})')\n",
    "df_broadband"
   ]
  },
  {
   "cell_type": "code",
   "execution_count": 282,
   "id": "a6798b68",
   "metadata": {},
   "outputs": [],
   "source": [
    "df_broadband = df_broadband.dropna(subset=['state_abbr'])"
   ]
  },
  {
   "cell_type": "code",
   "execution_count": 283,
   "id": "a07ff084",
   "metadata": {},
   "outputs": [],
   "source": [
    "df_broadband = df_broadband.groupby('state_abbr')['res_st_pct'].mean().reset_index().rename(columns={'state_abbr':'state','res_st_pct':'broadband'})"
   ]
  },
  {
   "cell_type": "code",
   "execution_count": 284,
   "id": "a5c4b204",
   "metadata": {},
   "outputs": [],
   "source": [
    "df_broadband = df_broadband[(df_broadband['state']!='PR')&(df_broadband['state']!='GU')&(df_broadband['state']!='MP')&(df_broadband['state']!='AS')&(df_broadband['state']!='VI')]"
   ]
  },
  {
   "cell_type": "code",
   "execution_count": null,
   "id": "024cac44",
   "metadata": {},
   "outputs": [],
   "source": [
    "df_broadband.reset_index(drop=True)"
   ]
  },
  {
   "cell_type": "code",
   "execution_count": 286,
   "id": "40046e47",
   "metadata": {},
   "outputs": [],
   "source": [
    "df_broadband['broadband'] = (df_broadband['broadband']*100).round(2)"
   ]
  },
  {
   "cell_type": "code",
   "execution_count": 287,
   "id": "ed5a0960",
   "metadata": {},
   "outputs": [],
   "source": [
    "us_state_abbrev = {\n",
    "    'AL': 'Alabama', 'AK': 'Alaska', 'AZ': 'Arizona', 'AR': 'Arkansas', 'CA': 'California',\n",
    "    'CO': 'Colorado', 'CT': 'Connecticut','DC':'District of Columbia' ,'DE': 'Delaware', 'FL': 'Florida', 'GA': 'Georgia',\n",
    "    'HI': 'Hawaii', 'ID': 'Idaho', 'IL': 'Illinois', 'IN': 'Indiana', 'IA': 'Iowa',\n",
    "    'KS': 'Kansas', 'KY': 'Kentucky', 'LA': 'Louisiana', 'ME': 'Maine', 'MD': 'Maryland',\n",
    "    'MA': 'Massachusetts', 'MI': 'Michigan', 'MN': 'Minnesota', 'MS': 'Mississippi', 'MO': 'Missouri',\n",
    "    'MT': 'Montana', 'NE': 'Nebraska', 'NV': 'Nevada', 'NH': 'New Hampshire', 'NJ': 'New Jersey',\n",
    "    'NM': 'New Mexico', 'NY': 'New York', 'NC': 'North Carolina', 'ND': 'North Dakota', 'OH': 'Ohio',\n",
    "    'OK': 'Oklahoma', 'OR': 'Oregon', 'PA': 'Pennsylvania', 'RI': 'Rhode Island', 'SC': 'South Carolina',\n",
    "    'SD': 'South Dakota', 'TN': 'Tennessee', 'TX': 'Texas', 'UT': 'Utah', 'VT': 'Vermont',\n",
    "    'VA': 'Virginia', 'WA': 'Washington', 'WV': 'West Virginia', 'WI': 'Wisconsin', 'WY': 'Wyoming'\n",
    "}\n",
    "\n",
    "df_broadband['state'] = df_broadband['state'].map(us_state_abbrev)"
   ]
  },
  {
   "cell_type": "code",
   "execution_count": 288,
   "id": "1c56a8d7",
   "metadata": {},
   "outputs": [],
   "source": [
    "df_broadband['state'] = df_broadband['state'].str.strip()"
   ]
  },
  {
   "cell_type": "code",
   "execution_count": null,
   "id": "8cabfd60",
   "metadata": {},
   "outputs": [],
   "source": [
    "df_broadband"
   ]
  },
  {
   "cell_type": "markdown",
   "id": "09479079",
   "metadata": {},
   "source": [
    "Working with Facilities dataset:\n",
    "* filter and keep only column = Site State Abbreviation\n",
    "* aggregate that column and count the number of occurances and put it in new column"
   ]
  },
  {
   "cell_type": "code",
   "execution_count": 294,
   "id": "f4d70815",
   "metadata": {},
   "outputs": [
    {
     "name": "stderr",
     "output_type": "stream",
     "text": [
      "/var/folders/vk/fzlwy9hj4ts96ppvlkx7lpmc0000gn/T/ipykernel_98360/894847931.py:1: DtypeWarning: Columns (47) have mixed types. Specify dtype option on import or set low_memory=False.\n",
      "  df_facilities = pd.read_csv(\"/Users/manika/Desktop/Python : Learning/healthcare-accessibility-index/data/raw/Health_Center_Service_Delivery_and_LookAlike_Sites.csv\")\n"
     ]
    }
   ],
   "source": [
    "df_facilities = pd.read_csv(\"/Users/manika/Desktop/Python : Learning/healthcare-accessibility-index/data/raw/Health_Center_Service_Delivery_and_LookAlike_Sites.csv\")\n"
   ]
  },
  {
   "cell_type": "code",
   "execution_count": 295,
   "id": "2de6b709",
   "metadata": {},
   "outputs": [],
   "source": [
    "df_facilities = df_facilities[['Site State Abbreviation']]"
   ]
  },
  {
   "cell_type": "code",
   "execution_count": 296,
   "id": "1b672e5e",
   "metadata": {},
   "outputs": [],
   "source": [
    "#dropping nan values\n",
    "df_facilities = df_facilities.dropna(subset=['Site State Abbreviation'])\n",
    "df_facilities.rename(columns={'Site State Abbreviation':'state'},inplace=True)"
   ]
  },
  {
   "cell_type": "code",
   "execution_count": 297,
   "id": "e3e91391",
   "metadata": {},
   "outputs": [],
   "source": [
    "\n",
    "df_facilities['state'] = df_facilities['state'].map(us_state_abbrev)"
   ]
  },
  {
   "cell_type": "code",
   "execution_count": 299,
   "id": "3777d3d3",
   "metadata": {},
   "outputs": [],
   "source": [
    "df_facilities = df_facilities.groupby('state').size().reset_index()"
   ]
  },
  {
   "cell_type": "code",
   "execution_count": 300,
   "id": "d22289b3",
   "metadata": {},
   "outputs": [],
   "source": [
    "df_facilities.rename(columns={0:'facility_count'},inplace=True)"
   ]
  },
  {
   "cell_type": "code",
   "execution_count": 301,
   "id": "76cd5e2a",
   "metadata": {},
   "outputs": [],
   "source": [
    "df_facilities['state'] = df_facilities['state'].str.strip()"
   ]
  },
  {
   "cell_type": "markdown",
   "id": "ac39dac3",
   "metadata": {},
   "source": [
    "Working with state travel time dataset:\n",
    "* converting column names to lower case\n",
    "* associating the state abbrevations to full name "
   ]
  },
  {
   "cell_type": "code",
   "execution_count": 303,
   "id": "08ca3bf4",
   "metadata": {},
   "outputs": [],
   "source": [
    "df_travel = pd.read_csv(\"/Users/manika/Desktop/Python : Learning/healthcare-accessibility-index/data/raw/state_travel_time.csv\")\n"
   ]
  },
  {
   "cell_type": "code",
   "execution_count": 304,
   "id": "840acc97",
   "metadata": {},
   "outputs": [],
   "source": [
    "df_travel.columns = df_travel.columns.str.lower()"
   ]
  },
  {
   "cell_type": "code",
   "execution_count": 305,
   "id": "d140fec3",
   "metadata": {},
   "outputs": [],
   "source": [
    "df_travel['state'] = df_travel['state'].map(us_state_abbrev)"
   ]
  },
  {
   "cell_type": "code",
   "execution_count": 306,
   "id": "8e4434af",
   "metadata": {},
   "outputs": [],
   "source": [
    "df_travel['state'] = df_travel['state'].str.strip()"
   ]
  },
  {
   "cell_type": "markdown",
   "id": "728085d2",
   "metadata": {},
   "source": [
    "Merging the clean dataset"
   ]
  },
  {
   "cell_type": "code",
   "execution_count": 188,
   "id": "2eee7a8d",
   "metadata": {},
   "outputs": [],
   "source": [
    "df_final = df_pop.copy()"
   ]
  },
  {
   "cell_type": "code",
   "execution_count": 199,
   "id": "096ffa68",
   "metadata": {},
   "outputs": [
    {
     "data": {
      "text/plain": [
       "Index(['state ', 'population_2023'], dtype='object')"
      ]
     },
     "execution_count": 199,
     "metadata": {},
     "output_type": "execute_result"
    }
   ],
   "source": [
    "df_pop.columns"
   ]
  },
  {
   "cell_type": "code",
   "execution_count": 308,
   "id": "d9552e93",
   "metadata": {},
   "outputs": [],
   "source": [
    "# Start with population\n",
    "df_final = df_pop.copy()\n",
    "\n",
    "# Merge income\n",
    "df_final = df_final.merge(df_income, on='state', how='left')\n",
    "\n",
    "# Merge insurance\n",
    "df_final = df_final.merge(df_insurance, on='state', how='left')\n",
    "\n",
    "# Merge broadband (state in lowercase)\n",
    "df_final = df_final.merge(df_broadband, on='state', how='left')\n",
    "\n",
    "# Merge health facility count\n",
    "df_final = df_final.merge(df_facilities, on='state', how='left')\n",
    "\n",
    "# Optional: Merge travel time\n",
    "# df_final = df_final.merge(df_travel_clean, on='State', how='left')\n",
    "\n",
    "# Final check\n",
    "\n"
   ]
  },
  {
   "cell_type": "code",
   "execution_count": 309,
   "id": "958a0077",
   "metadata": {},
   "outputs": [],
   "source": [
    "df_final.to_csv('/Users/manika/Desktop/Python : Learning/healthcare-accessibility-index/data/clean/healthcare_accessibility_index.csv', index=False)"
   ]
  },
  {
   "cell_type": "code",
   "execution_count": null,
   "id": "7128b1b3",
   "metadata": {},
   "outputs": [],
   "source": [
    "df_pop['state']"
   ]
  },
  {
   "cell_type": "code",
   "execution_count": 263,
   "id": "d0eb7a2c",
   "metadata": {},
   "outputs": [
    {
     "data": {
      "text/html": [
       "<div>\n",
       "<style scoped>\n",
       "    .dataframe tbody tr th:only-of-type {\n",
       "        vertical-align: middle;\n",
       "    }\n",
       "\n",
       "    .dataframe tbody tr th {\n",
       "        vertical-align: top;\n",
       "    }\n",
       "\n",
       "    .dataframe thead th {\n",
       "        text-align: right;\n",
       "    }\n",
       "</style>\n",
       "<table border=\"1\" class=\"dataframe\">\n",
       "  <thead>\n",
       "    <tr style=\"text-align: right;\">\n",
       "      <th></th>\n",
       "      <th>state</th>\n",
       "      <th>broadband</th>\n",
       "    </tr>\n",
       "  </thead>\n",
       "  <tbody>\n",
       "  </tbody>\n",
       "</table>\n",
       "</div>"
      ],
      "text/plain": [
       "Empty DataFrame\n",
       "Columns: [state, broadband]\n",
       "Index: []"
      ]
     },
     "execution_count": 263,
     "metadata": {},
     "output_type": "execute_result"
    }
   ],
   "source": [
    "df_broadband[df_broadband['state']=='District of Columbia']"
   ]
  },
  {
   "cell_type": "code",
   "execution_count": 310,
   "id": "c37bab3d",
   "metadata": {},
   "outputs": [
    {
     "data": {
      "text/html": [
       "<div>\n",
       "<style scoped>\n",
       "    .dataframe tbody tr th:only-of-type {\n",
       "        vertical-align: middle;\n",
       "    }\n",
       "\n",
       "    .dataframe tbody tr th {\n",
       "        vertical-align: top;\n",
       "    }\n",
       "\n",
       "    .dataframe thead th {\n",
       "        text-align: right;\n",
       "    }\n",
       "</style>\n",
       "<table border=\"1\" class=\"dataframe\">\n",
       "  <thead>\n",
       "    <tr style=\"text-align: right;\">\n",
       "      <th></th>\n",
       "      <th>state</th>\n",
       "      <th>population_2023</th>\n",
       "      <th>median_income($1k)</th>\n",
       "      <th>insured</th>\n",
       "      <th>broadband</th>\n",
       "      <th>facility_count</th>\n",
       "    </tr>\n",
       "  </thead>\n",
       "  <tbody>\n",
       "    <tr>\n",
       "      <th>0</th>\n",
       "      <td>California</td>\n",
       "      <td>39576757</td>\n",
       "      <td>95.521</td>\n",
       "      <td>93.6</td>\n",
       "      <td>61.99</td>\n",
       "      <td>2867</td>\n",
       "    </tr>\n",
       "    <tr>\n",
       "      <th>1</th>\n",
       "      <td>Texas</td>\n",
       "      <td>29994331</td>\n",
       "      <td>75.780</td>\n",
       "      <td>83.7</td>\n",
       "      <td>66.43</td>\n",
       "      <td>821</td>\n",
       "    </tr>\n",
       "    <tr>\n",
       "      <th>2</th>\n",
       "      <td>Florida</td>\n",
       "      <td>22377419</td>\n",
       "      <td>73.311</td>\n",
       "      <td>89.3</td>\n",
       "      <td>67.23</td>\n",
       "      <td>808</td>\n",
       "    </tr>\n",
       "    <tr>\n",
       "      <th>3</th>\n",
       "      <td>New York</td>\n",
       "      <td>19530351</td>\n",
       "      <td>82.095</td>\n",
       "      <td>95.2</td>\n",
       "      <td>75.42</td>\n",
       "      <td>882</td>\n",
       "    </tr>\n",
       "    <tr>\n",
       "      <th>4</th>\n",
       "      <td>Pennsylvania</td>\n",
       "      <td>12804123</td>\n",
       "      <td>73.824</td>\n",
       "      <td>94.6</td>\n",
       "      <td>73.86</td>\n",
       "      <td>479</td>\n",
       "    </tr>\n",
       "    <tr>\n",
       "      <th>5</th>\n",
       "      <td>Illinois</td>\n",
       "      <td>12585336</td>\n",
       "      <td>80.306</td>\n",
       "      <td>93.9</td>\n",
       "      <td>69.35</td>\n",
       "      <td>534</td>\n",
       "    </tr>\n",
       "    <tr>\n",
       "      <th>6</th>\n",
       "      <td>Ohio</td>\n",
       "      <td>11780017</td>\n",
       "      <td>67.769</td>\n",
       "      <td>93.9</td>\n",
       "      <td>66.83</td>\n",
       "      <td>599</td>\n",
       "    </tr>\n",
       "    <tr>\n",
       "      <th>7</th>\n",
       "      <td>Georgia</td>\n",
       "      <td>10942800</td>\n",
       "      <td>74.632</td>\n",
       "      <td>88.6</td>\n",
       "      <td>66.86</td>\n",
       "      <td>444</td>\n",
       "    </tr>\n",
       "    <tr>\n",
       "      <th>8</th>\n",
       "      <td>North Carolina</td>\n",
       "      <td>10701022</td>\n",
       "      <td>70.804</td>\n",
       "      <td>90.8</td>\n",
       "      <td>68.50</td>\n",
       "      <td>744</td>\n",
       "    </tr>\n",
       "    <tr>\n",
       "      <th>9</th>\n",
       "      <td>Michigan</td>\n",
       "      <td>10050811</td>\n",
       "      <td>69.183</td>\n",
       "      <td>95.6</td>\n",
       "      <td>61.70</td>\n",
       "      <td>478</td>\n",
       "    </tr>\n",
       "    <tr>\n",
       "      <th>10</th>\n",
       "      <td>New Jersey</td>\n",
       "      <td>9387600</td>\n",
       "      <td>99.781</td>\n",
       "      <td>92.8</td>\n",
       "      <td>81.25</td>\n",
       "      <td>175</td>\n",
       "    </tr>\n",
       "    <tr>\n",
       "      <th>11</th>\n",
       "      <td>Virginia</td>\n",
       "      <td>8927028</td>\n",
       "      <td>89.931</td>\n",
       "      <td>93.6</td>\n",
       "      <td>71.61</td>\n",
       "      <td>236</td>\n",
       "    </tr>\n",
       "    <tr>\n",
       "      <th>12</th>\n",
       "      <td>Washington</td>\n",
       "      <td>7831367</td>\n",
       "      <td>94.605</td>\n",
       "      <td>93.7</td>\n",
       "      <td>66.49</td>\n",
       "      <td>467</td>\n",
       "    </tr>\n",
       "    <tr>\n",
       "      <th>13</th>\n",
       "      <td>Arizona</td>\n",
       "      <td>7359192</td>\n",
       "      <td>77.315</td>\n",
       "      <td>90.2</td>\n",
       "      <td>69.08</td>\n",
       "      <td>302</td>\n",
       "    </tr>\n",
       "    <tr>\n",
       "      <th>14</th>\n",
       "      <td>Massachusetts</td>\n",
       "      <td>7094818</td>\n",
       "      <td>99.858</td>\n",
       "      <td>97.4</td>\n",
       "      <td>72.09</td>\n",
       "      <td>304</td>\n",
       "    </tr>\n",
       "    <tr>\n",
       "      <th>15</th>\n",
       "      <td>Tennessee</td>\n",
       "      <td>7091564</td>\n",
       "      <td>67.631</td>\n",
       "      <td>90.7</td>\n",
       "      <td>68.70</td>\n",
       "      <td>241</td>\n",
       "    </tr>\n",
       "    <tr>\n",
       "      <th>16</th>\n",
       "      <td>Indiana</td>\n",
       "      <td>6833037</td>\n",
       "      <td>69.477</td>\n",
       "      <td>93.2</td>\n",
       "      <td>65.22</td>\n",
       "      <td>465</td>\n",
       "    </tr>\n",
       "    <tr>\n",
       "      <th>17</th>\n",
       "      <td>Missouri</td>\n",
       "      <td>6169270</td>\n",
       "      <td>68.545</td>\n",
       "      <td>92.5</td>\n",
       "      <td>68.50</td>\n",
       "      <td>455</td>\n",
       "    </tr>\n",
       "    <tr>\n",
       "      <th>18</th>\n",
       "      <td>Maryland</td>\n",
       "      <td>6206806</td>\n",
       "      <td>98.678</td>\n",
       "      <td>93.7</td>\n",
       "      <td>77.39</td>\n",
       "      <td>166</td>\n",
       "    </tr>\n",
       "    <tr>\n",
       "      <th>19</th>\n",
       "      <td>Wisconsin</td>\n",
       "      <td>5935099</td>\n",
       "      <td>74.631</td>\n",
       "      <td>95.1</td>\n",
       "      <td>71.25</td>\n",
       "      <td>269</td>\n",
       "    </tr>\n",
       "    <tr>\n",
       "      <th>20</th>\n",
       "      <td>Colorado</td>\n",
       "      <td>5797082</td>\n",
       "      <td>92.911</td>\n",
       "      <td>93.3</td>\n",
       "      <td>65.51</td>\n",
       "      <td>304</td>\n",
       "    </tr>\n",
       "    <tr>\n",
       "      <th>21</th>\n",
       "      <td>Minnesota</td>\n",
       "      <td>5707390</td>\n",
       "      <td>85.086</td>\n",
       "      <td>96.0</td>\n",
       "      <td>65.06</td>\n",
       "      <td>94</td>\n",
       "    </tr>\n",
       "    <tr>\n",
       "      <th>22</th>\n",
       "      <td>South Carolina</td>\n",
       "      <td>5347600</td>\n",
       "      <td>67.804</td>\n",
       "      <td>91.0</td>\n",
       "      <td>73.24</td>\n",
       "      <td>342</td>\n",
       "    </tr>\n",
       "    <tr>\n",
       "      <th>23</th>\n",
       "      <td>Alabama</td>\n",
       "      <td>5074296</td>\n",
       "      <td>62.212</td>\n",
       "      <td>91.6</td>\n",
       "      <td>65.38</td>\n",
       "      <td>217</td>\n",
       "    </tr>\n",
       "    <tr>\n",
       "      <th>24</th>\n",
       "      <td>Louisiana</td>\n",
       "      <td>4627002</td>\n",
       "      <td>58.229</td>\n",
       "      <td>93.0</td>\n",
       "      <td>66.60</td>\n",
       "      <td>485</td>\n",
       "    </tr>\n",
       "    <tr>\n",
       "      <th>25</th>\n",
       "      <td>Kentucky</td>\n",
       "      <td>4570000</td>\n",
       "      <td>61.118</td>\n",
       "      <td>94.4</td>\n",
       "      <td>72.11</td>\n",
       "      <td>669</td>\n",
       "    </tr>\n",
       "    <tr>\n",
       "      <th>26</th>\n",
       "      <td>Oregon</td>\n",
       "      <td>4370000</td>\n",
       "      <td>80.160</td>\n",
       "      <td>94.6</td>\n",
       "      <td>67.76</td>\n",
       "      <td>328</td>\n",
       "    </tr>\n",
       "    <tr>\n",
       "      <th>27</th>\n",
       "      <td>Oklahoma</td>\n",
       "      <td>4020000</td>\n",
       "      <td>62.138</td>\n",
       "      <td>88.6</td>\n",
       "      <td>67.87</td>\n",
       "      <td>219</td>\n",
       "    </tr>\n",
       "    <tr>\n",
       "      <th>28</th>\n",
       "      <td>Connecticut</td>\n",
       "      <td>3605944</td>\n",
       "      <td>91.665</td>\n",
       "      <td>94.4</td>\n",
       "      <td>73.69</td>\n",
       "      <td>469</td>\n",
       "    </tr>\n",
       "    <tr>\n",
       "      <th>29</th>\n",
       "      <td>Iowa</td>\n",
       "      <td>3193079</td>\n",
       "      <td>71.433</td>\n",
       "      <td>95.0</td>\n",
       "      <td>69.33</td>\n",
       "      <td>130</td>\n",
       "    </tr>\n",
       "    <tr>\n",
       "      <th>30</th>\n",
       "      <td>Utah</td>\n",
       "      <td>3400000</td>\n",
       "      <td>93.421</td>\n",
       "      <td>92.3</td>\n",
       "      <td>68.68</td>\n",
       "      <td>66</td>\n",
       "    </tr>\n",
       "    <tr>\n",
       "      <th>31</th>\n",
       "      <td>Nevada</td>\n",
       "      <td>3210000</td>\n",
       "      <td>76.364</td>\n",
       "      <td>89.3</td>\n",
       "      <td>64.44</td>\n",
       "      <td>71</td>\n",
       "    </tr>\n",
       "    <tr>\n",
       "      <th>32</th>\n",
       "      <td>Arkansas</td>\n",
       "      <td>3045637</td>\n",
       "      <td>58.700</td>\n",
       "      <td>90.8</td>\n",
       "      <td>67.39</td>\n",
       "      <td>273</td>\n",
       "    </tr>\n",
       "    <tr>\n",
       "      <th>33</th>\n",
       "      <td>Mississippi</td>\n",
       "      <td>2949965</td>\n",
       "      <td>54.203</td>\n",
       "      <td>89.5</td>\n",
       "      <td>67.34</td>\n",
       "      <td>315</td>\n",
       "    </tr>\n",
       "    <tr>\n",
       "      <th>34</th>\n",
       "      <td>Kansas</td>\n",
       "      <td>2940000</td>\n",
       "      <td>70.333</td>\n",
       "      <td>91.6</td>\n",
       "      <td>71.33</td>\n",
       "      <td>187</td>\n",
       "    </tr>\n",
       "    <tr>\n",
       "      <th>35</th>\n",
       "      <td>New Mexico</td>\n",
       "      <td>2100000</td>\n",
       "      <td>62.268</td>\n",
       "      <td>91.0</td>\n",
       "      <td>72.62</td>\n",
       "      <td>256</td>\n",
       "    </tr>\n",
       "    <tr>\n",
       "      <th>36</th>\n",
       "      <td>Nebraska</td>\n",
       "      <td>1970000</td>\n",
       "      <td>74.590</td>\n",
       "      <td>93.7</td>\n",
       "      <td>66.87</td>\n",
       "      <td>95</td>\n",
       "    </tr>\n",
       "    <tr>\n",
       "      <th>37</th>\n",
       "      <td>West Virginia</td>\n",
       "      <td>1780000</td>\n",
       "      <td>55.948</td>\n",
       "      <td>94.1</td>\n",
       "      <td>65.75</td>\n",
       "      <td>515</td>\n",
       "    </tr>\n",
       "    <tr>\n",
       "      <th>38</th>\n",
       "      <td>Idaho</td>\n",
       "      <td>1820000</td>\n",
       "      <td>74.942</td>\n",
       "      <td>91.0</td>\n",
       "      <td>68.13</td>\n",
       "      <td>226</td>\n",
       "    </tr>\n",
       "    <tr>\n",
       "      <th>39</th>\n",
       "      <td>Hawaii</td>\n",
       "      <td>1440000</td>\n",
       "      <td>95.322</td>\n",
       "      <td>97.2</td>\n",
       "      <td>61.69</td>\n",
       "      <td>131</td>\n",
       "    </tr>\n",
       "    <tr>\n",
       "      <th>40</th>\n",
       "      <td>New Hampshire</td>\n",
       "      <td>1390000</td>\n",
       "      <td>96.838</td>\n",
       "      <td>95.4</td>\n",
       "      <td>68.28</td>\n",
       "      <td>85</td>\n",
       "    </tr>\n",
       "    <tr>\n",
       "      <th>41</th>\n",
       "      <td>Maine</td>\n",
       "      <td>1370000</td>\n",
       "      <td>73.733</td>\n",
       "      <td>93.9</td>\n",
       "      <td>66.24</td>\n",
       "      <td>200</td>\n",
       "    </tr>\n",
       "    <tr>\n",
       "      <th>42</th>\n",
       "      <td>Montana</td>\n",
       "      <td>1110000</td>\n",
       "      <td>70.804</td>\n",
       "      <td>91.5</td>\n",
       "      <td>70.05</td>\n",
       "      <td>153</td>\n",
       "    </tr>\n",
       "    <tr>\n",
       "      <th>43</th>\n",
       "      <td>Rhode Island</td>\n",
       "      <td>1090000</td>\n",
       "      <td>84.972</td>\n",
       "      <td>95.5</td>\n",
       "      <td>77.96</td>\n",
       "      <td>70</td>\n",
       "    </tr>\n",
       "    <tr>\n",
       "      <th>44</th>\n",
       "      <td>Delaware</td>\n",
       "      <td>1040000</td>\n",
       "      <td>81.361</td>\n",
       "      <td>93.2</td>\n",
       "      <td>81.71</td>\n",
       "      <td>15</td>\n",
       "    </tr>\n",
       "    <tr>\n",
       "      <th>45</th>\n",
       "      <td>South Dakota</td>\n",
       "      <td>923484</td>\n",
       "      <td>71.810</td>\n",
       "      <td>91.4</td>\n",
       "      <td>73.12</td>\n",
       "      <td>46</td>\n",
       "    </tr>\n",
       "    <tr>\n",
       "      <th>46</th>\n",
       "      <td>North Dakota</td>\n",
       "      <td>780000</td>\n",
       "      <td>76.525</td>\n",
       "      <td>95.8</td>\n",
       "      <td>75.86</td>\n",
       "      <td>34</td>\n",
       "    </tr>\n",
       "    <tr>\n",
       "      <th>47</th>\n",
       "      <td>Alaska</td>\n",
       "      <td>730000</td>\n",
       "      <td>86.631</td>\n",
       "      <td>89.5</td>\n",
       "      <td>75.35</td>\n",
       "      <td>229</td>\n",
       "    </tr>\n",
       "    <tr>\n",
       "      <th>48</th>\n",
       "      <td>Vermont</td>\n",
       "      <td>645000</td>\n",
       "      <td>81.211</td>\n",
       "      <td>96.6</td>\n",
       "      <td>70.59</td>\n",
       "      <td>101</td>\n",
       "    </tr>\n",
       "    <tr>\n",
       "      <th>49</th>\n",
       "      <td>Wyoming</td>\n",
       "      <td>578000</td>\n",
       "      <td>72.415</td>\n",
       "      <td>89.5</td>\n",
       "      <td>73.55</td>\n",
       "      <td>32</td>\n",
       "    </tr>\n",
       "    <tr>\n",
       "      <th>50</th>\n",
       "      <td>District of Columbia</td>\n",
       "      <td>712816</td>\n",
       "      <td>108.210</td>\n",
       "      <td>97.3</td>\n",
       "      <td>26.79</td>\n",
       "      <td>80</td>\n",
       "    </tr>\n",
       "  </tbody>\n",
       "</table>\n",
       "</div>"
      ],
      "text/plain": [
       "                   state  population_2023  median_income($1k)  insured  \\\n",
       "0             California         39576757              95.521     93.6   \n",
       "1                  Texas         29994331              75.780     83.7   \n",
       "2                Florida         22377419              73.311     89.3   \n",
       "3               New York         19530351              82.095     95.2   \n",
       "4           Pennsylvania         12804123              73.824     94.6   \n",
       "5               Illinois         12585336              80.306     93.9   \n",
       "6                   Ohio         11780017              67.769     93.9   \n",
       "7                Georgia         10942800              74.632     88.6   \n",
       "8         North Carolina         10701022              70.804     90.8   \n",
       "9               Michigan         10050811              69.183     95.6   \n",
       "10            New Jersey          9387600              99.781     92.8   \n",
       "11              Virginia          8927028              89.931     93.6   \n",
       "12            Washington          7831367              94.605     93.7   \n",
       "13               Arizona          7359192              77.315     90.2   \n",
       "14         Massachusetts          7094818              99.858     97.4   \n",
       "15             Tennessee          7091564              67.631     90.7   \n",
       "16               Indiana          6833037              69.477     93.2   \n",
       "17              Missouri          6169270              68.545     92.5   \n",
       "18              Maryland          6206806              98.678     93.7   \n",
       "19             Wisconsin          5935099              74.631     95.1   \n",
       "20              Colorado          5797082              92.911     93.3   \n",
       "21             Minnesota          5707390              85.086     96.0   \n",
       "22        South Carolina          5347600              67.804     91.0   \n",
       "23               Alabama          5074296              62.212     91.6   \n",
       "24             Louisiana          4627002              58.229     93.0   \n",
       "25              Kentucky          4570000              61.118     94.4   \n",
       "26                Oregon          4370000              80.160     94.6   \n",
       "27              Oklahoma          4020000              62.138     88.6   \n",
       "28           Connecticut          3605944              91.665     94.4   \n",
       "29                  Iowa          3193079              71.433     95.0   \n",
       "30                  Utah          3400000              93.421     92.3   \n",
       "31                Nevada          3210000              76.364     89.3   \n",
       "32              Arkansas          3045637              58.700     90.8   \n",
       "33           Mississippi          2949965              54.203     89.5   \n",
       "34                Kansas          2940000              70.333     91.6   \n",
       "35            New Mexico          2100000              62.268     91.0   \n",
       "36              Nebraska          1970000              74.590     93.7   \n",
       "37         West Virginia          1780000              55.948     94.1   \n",
       "38                 Idaho          1820000              74.942     91.0   \n",
       "39                Hawaii          1440000              95.322     97.2   \n",
       "40         New Hampshire          1390000              96.838     95.4   \n",
       "41                 Maine          1370000              73.733     93.9   \n",
       "42               Montana          1110000              70.804     91.5   \n",
       "43          Rhode Island          1090000              84.972     95.5   \n",
       "44              Delaware          1040000              81.361     93.2   \n",
       "45          South Dakota           923484              71.810     91.4   \n",
       "46          North Dakota           780000              76.525     95.8   \n",
       "47                Alaska           730000              86.631     89.5   \n",
       "48               Vermont           645000              81.211     96.6   \n",
       "49               Wyoming           578000              72.415     89.5   \n",
       "50  District of Columbia           712816             108.210     97.3   \n",
       "\n",
       "    broadband  facility_count  \n",
       "0       61.99            2867  \n",
       "1       66.43             821  \n",
       "2       67.23             808  \n",
       "3       75.42             882  \n",
       "4       73.86             479  \n",
       "5       69.35             534  \n",
       "6       66.83             599  \n",
       "7       66.86             444  \n",
       "8       68.50             744  \n",
       "9       61.70             478  \n",
       "10      81.25             175  \n",
       "11      71.61             236  \n",
       "12      66.49             467  \n",
       "13      69.08             302  \n",
       "14      72.09             304  \n",
       "15      68.70             241  \n",
       "16      65.22             465  \n",
       "17      68.50             455  \n",
       "18      77.39             166  \n",
       "19      71.25             269  \n",
       "20      65.51             304  \n",
       "21      65.06              94  \n",
       "22      73.24             342  \n",
       "23      65.38             217  \n",
       "24      66.60             485  \n",
       "25      72.11             669  \n",
       "26      67.76             328  \n",
       "27      67.87             219  \n",
       "28      73.69             469  \n",
       "29      69.33             130  \n",
       "30      68.68              66  \n",
       "31      64.44              71  \n",
       "32      67.39             273  \n",
       "33      67.34             315  \n",
       "34      71.33             187  \n",
       "35      72.62             256  \n",
       "36      66.87              95  \n",
       "37      65.75             515  \n",
       "38      68.13             226  \n",
       "39      61.69             131  \n",
       "40      68.28              85  \n",
       "41      66.24             200  \n",
       "42      70.05             153  \n",
       "43      77.96              70  \n",
       "44      81.71              15  \n",
       "45      73.12              46  \n",
       "46      75.86              34  \n",
       "47      75.35             229  \n",
       "48      70.59             101  \n",
       "49      73.55              32  \n",
       "50      26.79              80  "
      ]
     },
     "execution_count": 310,
     "metadata": {},
     "output_type": "execute_result"
    }
   ],
   "source": [
    "df_final\n"
   ]
  },
  {
   "cell_type": "code",
   "execution_count": null,
   "id": "676772df",
   "metadata": {},
   "outputs": [],
   "source": []
  },
  {
   "cell_type": "code",
   "execution_count": null,
   "id": "6e980fae",
   "metadata": {},
   "outputs": [],
   "source": []
  },
  {
   "cell_type": "code",
   "execution_count": null,
   "id": "1dd33825",
   "metadata": {},
   "outputs": [],
   "source": []
  },
  {
   "cell_type": "code",
   "execution_count": null,
   "id": "aeec629d",
   "metadata": {},
   "outputs": [],
   "source": []
  }
 ],
 "metadata": {
  "kernelspec": {
   "display_name": "base",
   "language": "python",
   "name": "python3"
  },
  "language_info": {
   "codemirror_mode": {
    "name": "ipython",
    "version": 3
   },
   "file_extension": ".py",
   "mimetype": "text/x-python",
   "name": "python",
   "nbconvert_exporter": "python",
   "pygments_lexer": "ipython3",
   "version": "3.9.13"
  }
 },
 "nbformat": 4,
 "nbformat_minor": 5
}
